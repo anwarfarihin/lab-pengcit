{
 "cells": [
  {
   "cell_type": "code",
   "execution_count": 8,
   "metadata": {},
   "outputs": [
    {
     "ename": "SyntaxError",
     "evalue": "invalid syntax (<ipython-input-8-d8a339fc869d>, line 3)",
     "output_type": "error",
     "traceback": [
      "\u001b[0;36m  File \u001b[0;32m\"<ipython-input-8-d8a339fc869d>\"\u001b[0;36m, line \u001b[0;32m3\u001b[0m\n\u001b[0;31m    from * import helper\u001b[0m\n\u001b[0m         ^\u001b[0m\n\u001b[0;31mSyntaxError\u001b[0m\u001b[0;31m:\u001b[0m invalid syntax\n"
     ]
    }
   ],
   "source": [
    "import importlib\n",
    "import numpy as np\n",
    "from skimage import io, color, util\n",
    "importlib.import_module(\"helper\")\n",
    "f = io.imread('lena.bmp')\n",
    "f = color.rgb2gray(f);\n",
    "h = np.array([[1,2,1], [0,0,0],\n",
    "[-1,-2,-1]]) # sobel operator\n",
    "w,l = paddedsize(f.shape[0],\n",
    "f.shape[1])\n",
    "f2 = fp.fft2(f,(w,l))\n",
    "h2 = fp.fft2(h,(w,l))\n",
    "F_fh = h2*f2\n",
    "res = fp.ifft2(F_fh).real\n",
    "res = res[:f.shape[0],:f.shape[1]]\n",
    "plt.imshow(res, cmap='gray')\n",
    "plt.axis(\"off\"); plt.show()"
   ]
  },
  {
   "cell_type": "code",
   "execution_count": null,
   "metadata": {},
   "outputs": [],
   "source": []
  }
 ],
 "metadata": {
  "kernelspec": {
   "display_name": "Python 3",
   "language": "python",
   "name": "python3"
  },
  "language_info": {
   "codemirror_mode": {
    "name": "ipython",
    "version": 3
   },
   "file_extension": ".py",
   "mimetype": "text/x-python",
   "name": "python",
   "nbconvert_exporter": "python",
   "pygments_lexer": "ipython3",
   "version": "3.6.8"
  }
 },
 "nbformat": 4,
 "nbformat_minor": 4
}
